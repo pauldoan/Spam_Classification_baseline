{
 "cells": [
  {
   "cell_type": "markdown",
   "metadata": {},
   "source": [
    "# Baseline Model for Spam classification: Naives Bayes"
   ]
  },
  {
   "cell_type": "code",
   "execution_count": 1,
   "metadata": {},
   "outputs": [],
   "source": [
    "# Let's first import the needed libraries \n",
    "\n",
    "import numpy as np\n",
    "import pandas as pd\n",
    "import matplotlib.pyplot as plt\n",
    "%matplotlib inline \n",
    "import pickle\n",
    "import scipy.sparse\n",
    "import seaborn as sns\n",
    "sns.set()\n",
    "\n",
    "# To handle email messages\n",
    "import email\n",
    "from email.policy import default\n",
    "from bs4 import BeautifulSoup\n",
    "\n",
    "# Progression bar\n",
    "import tqdm\n",
    "\n",
    "# Machine Learning libraries\n",
    "from sklearn.model_selection import train_test_split, cross_val_score\n",
    "import sklearn.naive_bayes\n",
    "from sklearn.feature_extraction.text import CountVectorizer,TfidfVectorizer\n",
    "from sklearn.metrics import roc_auc_score, roc_curve, confusion_matrix\n",
    "\n",
    "# Text handling\n",
    "from nltk.tokenize import word_tokenize\n",
    "from nltk.stem.porter import PorterStemmer\n",
    "from nltk.corpus import stopwords\n",
    "import string\n"
   ]
  },
  {
   "cell_type": "markdown",
   "metadata": {},
   "source": [
    "## Data Preprocessing"
   ]
  },
  {
   "cell_type": "markdown",
   "metadata": {},
   "source": [
    "We are going to be using the TREC 2005 dataset."
   ]
  },
  {
   "cell_type": "code",
   "execution_count": 2,
   "metadata": {},
   "outputs": [
    {
     "data": {
      "text/html": [
       "<div>\n",
       "<style scoped>\n",
       "    .dataframe tbody tr th:only-of-type {\n",
       "        vertical-align: middle;\n",
       "    }\n",
       "\n",
       "    .dataframe tbody tr th {\n",
       "        vertical-align: top;\n",
       "    }\n",
       "\n",
       "    .dataframe thead th {\n",
       "        text-align: right;\n",
       "    }\n",
       "</style>\n",
       "<table border=\"1\" class=\"dataframe\">\n",
       "  <thead>\n",
       "    <tr style=\"text-align: right;\">\n",
       "      <th></th>\n",
       "      <th>spam</th>\n",
       "      <th>email_id</th>\n",
       "    </tr>\n",
       "  </thead>\n",
       "  <tbody>\n",
       "    <tr>\n",
       "      <th>0</th>\n",
       "      <td>ham</td>\n",
       "      <td>000/000</td>\n",
       "    </tr>\n",
       "    <tr>\n",
       "      <th>1</th>\n",
       "      <td>ham</td>\n",
       "      <td>000/001</td>\n",
       "    </tr>\n",
       "    <tr>\n",
       "      <th>2</th>\n",
       "      <td>ham</td>\n",
       "      <td>000/002</td>\n",
       "    </tr>\n",
       "    <tr>\n",
       "      <th>3</th>\n",
       "      <td>ham</td>\n",
       "      <td>000/003</td>\n",
       "    </tr>\n",
       "    <tr>\n",
       "      <th>4</th>\n",
       "      <td>ham</td>\n",
       "      <td>000/004</td>\n",
       "    </tr>\n",
       "  </tbody>\n",
       "</table>\n",
       "</div>"
      ],
      "text/plain": [
       "  spam email_id\n",
       "0  ham  000/000\n",
       "1  ham  000/001\n",
       "2  ham  000/002\n",
       "3  ham  000/003\n",
       "4  ham  000/004"
      ]
     },
     "execution_count": 2,
     "metadata": {},
     "output_type": "execute_result"
    }
   ],
   "source": [
    "# Importing data\n",
    "\n",
    "data = pd.read_csv('TREC05/full/index', delim_whitespace=True, header=None, names=['spam', 'email_id'])\n",
    "data.email_id = data.email_id.str.replace('../data/', '')\n",
    "data.head()"
   ]
  },
  {
   "cell_type": "code",
   "execution_count": 3,
   "metadata": {},
   "outputs": [],
   "source": [
    "first_time = True"
   ]
  },
  {
   "cell_type": "code",
   "execution_count": 4,
   "metadata": {
    "scrolled": true
   },
   "outputs": [
    {
     "name": "stderr",
     "output_type": "stream",
     "text": [
      "100%|██████████| 92189/92189 [02:04<00:00, 738.97it/s] \n"
     ]
    }
   ],
   "source": [
    "# Reading all the emails\n",
    "\n",
    "if first_time:\n",
    "    parser = email.parser.BytesParser(policy=default)\n",
    "    messages = []\n",
    "    for id in tqdm.tqdm(data['email_id']):\n",
    "        with open('TREC05/data/' + id, 'rb') as file:\n",
    "            message = parser.parse(file)\n",
    "            messages.append(message)"
   ]
  },
  {
   "cell_type": "code",
   "execution_count": 5,
   "metadata": {
    "scrolled": true
   },
   "outputs": [
    {
     "name": "stderr",
     "output_type": "stream",
     "text": [
      "100%|██████████| 92189/92189 [02:52<00:00, 533.24it/s] \n"
     ]
    }
   ],
   "source": [
    "# Creating the interesting features: parts, attachments, html, subject, body, links\n",
    "\n",
    "if first_time:\n",
    "    parts = []\n",
    "    attachments = []\n",
    "    html = []\n",
    "    subjects = []\n",
    "    body_list = []\n",
    "    links = []\n",
    "\n",
    "    for message in tqdm.tqdm(messages):\n",
    "        # parts\n",
    "        if not message.is_multipart():\n",
    "            parts.append(0)        \n",
    "        else:\n",
    "            parts.append(len(list(message.walk())))\n",
    "\n",
    "        # Attachments\n",
    "        attach = 0\n",
    "        for part in message.walk():\n",
    "            cdispo = str(part.get('Content-Disposition'))\n",
    "            if 'attachment' in cdispo:\n",
    "                attach += 1\n",
    "        attachments.append(attach)\n",
    "\n",
    "        # Html\n",
    "        html.append(1*('text/html' in [part.get_content_type() for part in message.walk()]))\n",
    "\n",
    "        # Subject\n",
    "        subjects.append(message.get('subject'))\n",
    "\n",
    "        # Body and links\n",
    "        for part in message.walk():\n",
    "            ctype = part.get_content_type()\n",
    "            cdispo = str(part.get('Content-Disposition'))\n",
    "\n",
    "            # skip any text/plain (txt) attachments\n",
    "            if ctype == 'text/plain' and 'attachment' not in cdispo:\n",
    "                body = part.get_payload(decode=True)  # decode\n",
    "                if type(body) == bytes:\n",
    "                    body = body.decode('latin-1')\n",
    "\n",
    "                link = 0\n",
    "                break\n",
    "\n",
    "            elif ctype == 'text/html' and 'attachment' not in cdispo:\n",
    "                soup = BeautifulSoup(part.get_payload(decode=True), 'lxml')\n",
    "                body = soup.find(text=True, recursive=False)\n",
    "                if body == '':\n",
    "                    continue\n",
    "                else:\n",
    "                    link = len(soup.find_all('a'))\n",
    "                    break\n",
    "\n",
    "        body_list.append(body)\n",
    "        links.append(link)\n",
    "    "
   ]
  },
  {
   "cell_type": "code",
   "execution_count": 6,
   "metadata": {},
   "outputs": [],
   "source": [
    "# Wrapping everyting up into a Dataframe\n",
    "if first_time:\n",
    "    df = pd.DataFrame({'email_id': data.email_id,\n",
    "                         'parts': parts, \n",
    "                         'attachments': attachments, \n",
    "                         'html': html, \n",
    "                         'subject': subjects, \n",
    "                         'body': body_list, \n",
    "                         'links': links,\n",
    "                         'spam': data.spam})\n",
    "\n",
    "    df.to_csv('data05/email_data.csv', index=False)\n"
   ]
  },
  {
   "cell_type": "markdown",
   "metadata": {},
   "source": [
    "## Preparing the dataset"
   ]
  },
  {
   "cell_type": "code",
   "execution_count": 8,
   "metadata": {},
   "outputs": [
    {
     "data": {
      "text/html": [
       "<div>\n",
       "<style scoped>\n",
       "    .dataframe tbody tr th:only-of-type {\n",
       "        vertical-align: middle;\n",
       "    }\n",
       "\n",
       "    .dataframe tbody tr th {\n",
       "        vertical-align: top;\n",
       "    }\n",
       "\n",
       "    .dataframe thead th {\n",
       "        text-align: right;\n",
       "    }\n",
       "</style>\n",
       "<table border=\"1\" class=\"dataframe\">\n",
       "  <thead>\n",
       "    <tr style=\"text-align: right;\">\n",
       "      <th></th>\n",
       "      <th>email_id</th>\n",
       "      <th>parts</th>\n",
       "      <th>attachments</th>\n",
       "      <th>html</th>\n",
       "      <th>subject</th>\n",
       "      <th>body</th>\n",
       "      <th>links</th>\n",
       "      <th>spam</th>\n",
       "    </tr>\n",
       "  </thead>\n",
       "  <tbody>\n",
       "    <tr>\n",
       "      <th>0</th>\n",
       "      <td>000/000</td>\n",
       "      <td>0</td>\n",
       "      <td>0</td>\n",
       "      <td>0</td>\n",
       "      <td>FW: June 29 -- BNA, Inc. Daily Labor Report</td>\n",
       "      <td>User ID:  enrondlr\\nPW:        bnaweb22\\n\\n\\n ...</td>\n",
       "      <td>0</td>\n",
       "      <td>ham</td>\n",
       "    </tr>\n",
       "    <tr>\n",
       "      <th>1</th>\n",
       "      <td>000/001</td>\n",
       "      <td>0</td>\n",
       "      <td>0</td>\n",
       "      <td>0</td>\n",
       "      <td>NGX failover plan.</td>\n",
       "      <td>\\nHi Chris,  \\n\\nTonight we are rolling out a ...</td>\n",
       "      <td>0</td>\n",
       "      <td>ham</td>\n",
       "    </tr>\n",
       "    <tr>\n",
       "      <th>2</th>\n",
       "      <td>000/002</td>\n",
       "      <td>0</td>\n",
       "      <td>0</td>\n",
       "      <td>0</td>\n",
       "      <td>RE: Intranet Site</td>\n",
       "      <td>Rika r these new?\\n\\n -----Original Message---...</td>\n",
       "      <td>0</td>\n",
       "      <td>ham</td>\n",
       "    </tr>\n",
       "    <tr>\n",
       "      <th>3</th>\n",
       "      <td>000/003</td>\n",
       "      <td>0</td>\n",
       "      <td>0</td>\n",
       "      <td>0</td>\n",
       "      <td>FW: ENA Upstream Company information</td>\n",
       "      <td>John/Gerald,\\n\\nWe are currently trading under...</td>\n",
       "      <td>0</td>\n",
       "      <td>ham</td>\n",
       "    </tr>\n",
       "    <tr>\n",
       "      <th>4</th>\n",
       "      <td>000/004</td>\n",
       "      <td>0</td>\n",
       "      <td>0</td>\n",
       "      <td>0</td>\n",
       "      <td>New Master Physical</td>\n",
       "      <td>Gerald and Stacy -\\n\\nAttached is a worksheet ...</td>\n",
       "      <td>0</td>\n",
       "      <td>ham</td>\n",
       "    </tr>\n",
       "  </tbody>\n",
       "</table>\n",
       "</div>"
      ],
      "text/plain": [
       "  email_id  parts  attachments  html  \\\n",
       "0  000/000      0            0     0   \n",
       "1  000/001      0            0     0   \n",
       "2  000/002      0            0     0   \n",
       "3  000/003      0            0     0   \n",
       "4  000/004      0            0     0   \n",
       "\n",
       "                                       subject  \\\n",
       "0  FW: June 29 -- BNA, Inc. Daily Labor Report   \n",
       "1                           NGX failover plan.   \n",
       "2                            RE: Intranet Site   \n",
       "3         FW: ENA Upstream Company information   \n",
       "4                          New Master Physical   \n",
       "\n",
       "                                                body  links spam  \n",
       "0  User ID:  enrondlr\\nPW:        bnaweb22\\n\\n\\n ...      0  ham  \n",
       "1  \\nHi Chris,  \\n\\nTonight we are rolling out a ...      0  ham  \n",
       "2  Rika r these new?\\n\\n -----Original Message---...      0  ham  \n",
       "3  John/Gerald,\\n\\nWe are currently trading under...      0  ham  \n",
       "4  Gerald and Stacy -\\n\\nAttached is a worksheet ...      0  ham  "
      ]
     },
     "execution_count": 8,
     "metadata": {},
     "output_type": "execute_result"
    }
   ],
   "source": [
    "# Importing the clean dataset\n",
    "\n",
    "Email = pd.read_csv('data05/email_data.csv')\n",
    "Email.head()"
   ]
  },
  {
   "cell_type": "code",
   "execution_count": 9,
   "metadata": {},
   "outputs": [
    {
     "name": "stdout",
     "output_type": "stream",
     "text": [
      "email_id          0\n",
      "parts             0\n",
      "attachments       0\n",
      "html              0\n",
      "subject        2061\n",
      "body           8952\n",
      "links             0\n",
      "spam              0\n",
      "dtype: int64\n",
      "\n",
      "Only Subject and Body contain nan. We will replace with empty strings!\n"
     ]
    }
   ],
   "source": [
    "# Cleaning the nan data\n",
    "print(Email.isna().sum())\n",
    "print('\\nOnly Subject and Body contain nan. We will replace with empty strings!')"
   ]
  },
  {
   "cell_type": "code",
   "execution_count": 10,
   "metadata": {},
   "outputs": [],
   "source": [
    "Email.fillna('', inplace=True)"
   ]
  },
  {
   "cell_type": "code",
   "execution_count": 11,
   "metadata": {},
   "outputs": [
    {
     "data": {
      "text/plain": [
       "((78360, 8), (13829, 8))"
      ]
     },
     "execution_count": 11,
     "metadata": {},
     "output_type": "execute_result"
    }
   ],
   "source": [
    "# Generating a training set and test set\n",
    "\n",
    "Training, Test = train_test_split(Email, test_size=0.15, random_state=1)\n",
    "Training.shape, Test.shape"
   ]
  },
  {
   "cell_type": "markdown",
   "metadata": {},
   "source": [
    "## I. Structural Information model"
   ]
  },
  {
   "cell_type": "markdown",
   "metadata": {},
   "source": [
    "The simplest spam detection model we will build will use only structural information about email messages.\n",
    "We will use the following variables:\n",
    "- **multipart**: 1 if message is multi-part, 0 otherwise.\n",
    "- **html**: 1 if message contains a text/html part, zero otherwise. \n",
    "- **links**: 1 if message body contains hyperlinks, zero otherwise. \n",
    "- **attachments**: 1 if message contains attachments, zero otherwise."
   ]
  },
  {
   "cell_type": "code",
   "execution_count": 12,
   "metadata": {},
   "outputs": [],
   "source": [
    "# Training features\n",
    "sim_multipart = np.where(Training.parts > 0, 1, 0)\n",
    "sim_html = Training.html.values\n",
    "sim_links = np.where(Training.links > 0, 1, 0)\n",
    "sim_attachments = np.where(Training.attachments > 0, 1, 0)\n",
    "sim_X_train = np.column_stack((sim_multipart, sim_html, sim_links, sim_attachments))\n",
    "Y_train = np.where(Training.spam == 'spam', 1, 0)\n",
    "\n",
    "\n",
    "# Test features\n",
    "sim_multipart_test = np.where(Test.parts > 0, 1, 0)\n",
    "sim_html_test = Test.html.values\n",
    "sim_links_test = np.where(Test.links > 0, 1, 0)\n",
    "sim_attachments_test = np.where(Test.attachments > 0, 1, 0)\n",
    "sim_X_test = np.column_stack((sim_multipart_test, sim_html_test, sim_links_test, sim_attachments_test))\n",
    "Y_test = np.where(Test.spam == 'spam', 1, 0)"
   ]
  },
  {
   "cell_type": "code",
   "execution_count": 13,
   "metadata": {},
   "outputs": [],
   "source": [
    "# Building a Naive Bayes model\n",
    "NB_classifier = sklearn.naive_bayes.BernoulliNB()\n",
    "sim_cross_score = cross_val_score(NB_classifier, sim_X_train, Y_train, scoring='roc_auc', n_jobs=-1, cv=5)\n"
   ]
  },
  {
   "cell_type": "code",
   "execution_count": 14,
   "metadata": {},
   "outputs": [
    {
     "name": "stdout",
     "output_type": "stream",
     "text": [
      "For this Strucural information model, the 5 fold cross validated AUC is:  0.7545258211024378\n"
     ]
    }
   ],
   "source": [
    "# Results\n",
    "print('For this Strucural information model, the 5 fold cross validated AUC is: ', sim_cross_score.mean())\n"
   ]
  },
  {
   "cell_type": "markdown",
   "metadata": {},
   "source": [
    "## II. Subject Model"
   ]
  },
  {
   "cell_type": "markdown",
   "metadata": {},
   "source": [
    "For this model, we will focus on the subject part of the email, which is often where there is the most information concerning whether or not it is a spam. \n",
    "We will use the bag-of-word representation of the message subject."
   ]
  },
  {
   "cell_type": "code",
   "execution_count": 15,
   "metadata": {},
   "outputs": [],
   "source": [
    "# Building the bag of words representation\n",
    "\n",
    "\n",
    "def stem_tokenizer(text):\n",
    "    porter_stemmer = PorterStemmer()\n",
    "    return [porter_stemmer.stem(token) for token in word_tokenize(text.lower())]\n",
    "\n",
    "punctuation = list(string.punctuation)\n",
    "stop0 = stopwords.words(\"english\") + punctuation\n",
    "stop_words = set(stem_tokenizer(\" \".join(stop0)))"
   ]
  },
  {
   "cell_type": "markdown",
   "metadata": {},
   "source": [
    "#### Set features"
   ]
  },
  {
   "cell_type": "code",
   "execution_count": 16,
   "metadata": {},
   "outputs": [
    {
     "name": "stderr",
     "output_type": "stream",
     "text": [
      "/Library/Frameworks/Python.framework/Versions/3.8/lib/python3.8/site-packages/sklearn/feature_extraction/text.py:382: UserWarning: Your stop_words may be inconsistent with your preprocessing. Tokenizing the stop words generated tokens ['becau'] not in stop_words.\n",
      "  warnings.warn('Your stop_words may be inconsistent with '\n"
     ]
    },
    {
     "name": "stdout",
     "output_type": "stream",
     "text": [
      "Total Words:  312408\n",
      "(78360, 35087)\n"
     ]
    }
   ],
   "source": [
    "# Building the bag of words representation with set features\n",
    "\n",
    "setVectorizer_subject = CountVectorizer(input = 'content', tokenizer=stem_tokenizer, stop_words=stop_words, binary=True)\n",
    "sub_X_train = setVectorizer_subject.fit_transform(Training.subject.values)\n",
    "sub_X_test = setVectorizer_subject.transform(Test.subject.values)\n",
    "print(\"Total Words: \",sub_X_train.sum())\n",
    "print(sub_X_train.shape)"
   ]
  },
  {
   "cell_type": "code",
   "execution_count": 17,
   "metadata": {},
   "outputs": [],
   "source": [
    "# Building a Naive Bayes model\n",
    "NB_classifier = sklearn.naive_bayes.MultinomialNB()\n",
    "sub_set_cross_score = cross_val_score(NB_classifier, sub_X_train, Y_train, scoring='roc_auc', n_jobs=-1, cv=5)"
   ]
  },
  {
   "cell_type": "code",
   "execution_count": 18,
   "metadata": {},
   "outputs": [
    {
     "name": "stdout",
     "output_type": "stream",
     "text": [
      "For this subject model, using the set features, the 5 fold cross validated AUC is:  0.9759888130923112\n"
     ]
    }
   ],
   "source": [
    "# Results\n",
    "print('For this subject model, using the set features, the 5 fold cross validated AUC is: ', sub_set_cross_score.mean())\n"
   ]
  },
  {
   "cell_type": "markdown",
   "metadata": {},
   "source": [
    "#### tfidf features"
   ]
  },
  {
   "cell_type": "code",
   "execution_count": 19,
   "metadata": {},
   "outputs": [
    {
     "name": "stderr",
     "output_type": "stream",
     "text": [
      "/Library/Frameworks/Python.framework/Versions/3.8/lib/python3.8/site-packages/sklearn/feature_extraction/text.py:382: UserWarning: Your stop_words may be inconsistent with your preprocessing. Tokenizing the stop words generated tokens ['becau'] not in stop_words.\n",
      "  warnings.warn('Your stop_words may be inconsistent with '\n"
     ]
    },
    {
     "name": "stdout",
     "output_type": "stream",
     "text": [
      "(78360, 35087)\n"
     ]
    }
   ],
   "source": [
    "# Building the bag of words representation with tfidf features\n",
    "\n",
    "tfidfVectorizer_subject = TfidfVectorizer(input = 'content', tokenizer=stem_tokenizer, stop_words=stop_words)\n",
    "sub_tfidf_X_train = tfidfVectorizer_subject.fit_transform(Training.subject.values)\n",
    "sub_tfidf_X_test = tfidfVectorizer_subject.transform(Test.subject.values)\n",
    "print(sub_tfidf_X_train.shape)"
   ]
  },
  {
   "cell_type": "code",
   "execution_count": 20,
   "metadata": {},
   "outputs": [],
   "source": [
    "# Building a Naive Bayes model\n",
    "NB_classifier = sklearn.naive_bayes.MultinomialNB()\n",
    "sub_tfidf_cross_score = cross_val_score(NB_classifier, sub_tfidf_X_train, Y_train, scoring='roc_auc', n_jobs=-1, cv=5)"
   ]
  },
  {
   "cell_type": "code",
   "execution_count": 21,
   "metadata": {},
   "outputs": [
    {
     "name": "stdout",
     "output_type": "stream",
     "text": [
      "For this subject model, using the tfidf features, the 5 fold cross validated AUC is:  0.9774401572687725\n"
     ]
    }
   ],
   "source": [
    "# Results\n",
    "print('For this subject model, using the tfidf features, the 5 fold cross validated AUC is: ', sub_tfidf_cross_score.mean())\n"
   ]
  },
  {
   "cell_type": "markdown",
   "metadata": {},
   "source": [
    "## III. Message Body Model"
   ]
  },
  {
   "cell_type": "markdown",
   "metadata": {},
   "source": [
    "For this model, we will focus on the body part of the email. As the text features are pretty long to generate, I will save them."
   ]
  },
  {
   "cell_type": "markdown",
   "metadata": {},
   "source": [
    "#### Set features"
   ]
  },
  {
   "cell_type": "code",
   "execution_count": 22,
   "metadata": {},
   "outputs": [
    {
     "name": "stderr",
     "output_type": "stream",
     "text": [
      "/Library/Frameworks/Python.framework/Versions/3.8/lib/python3.8/site-packages/sklearn/feature_extraction/text.py:382: UserWarning: Your stop_words may be inconsistent with your preprocessing. Tokenizing the stop words generated tokens ['becau'] not in stop_words.\n",
      "  warnings.warn('Your stop_words may be inconsistent with '\n"
     ]
    },
    {
     "name": "stdout",
     "output_type": "stream",
     "text": [
      "Total Words:  6154865\n"
     ]
    }
   ],
   "source": [
    "if first_time:\n",
    "    \n",
    "    # Building the set features\n",
    "    setVectorizer_body = CountVectorizer(input = 'content', tokenizer=stem_tokenizer, stop_words=stop_words, binary=True)\n",
    "    body_X_train = setVectorizer_body.fit_transform(Training.body.values)\n",
    "    body_X_test = setVectorizer_body.transform(Test.body.values)\n",
    "    print(\"Total Words: \",body_X_train.sum())\n",
    "    \n",
    "    # Saving set features \n",
    "    with open('data05/body_set_features.p', 'wb') as file:\n",
    "        pickle.dump(body_X_train, file)\n",
    "\n",
    "    with open('data05/body_set_test_features.p', 'wb') as file:\n",
    "        pickle.dump(body_X_test, file)\n",
    "    \n",
    "    with open('data05/setVectorizer_body.p', 'wb') as file:\n",
    "        pickle.dump(setVectorizer_body, file)\n",
    "        \n",
    "        \n",
    "    \n",
    "else :\n",
    "\n",
    "    # Loading the features\n",
    "    with open('data05/body_set_features.p', 'rb') as file:\n",
    "        body_X_train = pickle.load(file)\n",
    "    \n",
    "    with open('data05/body_set_test_features.p', 'rb') as file:\n",
    "        body_X_test = pickle.load(file)\n",
    "\n",
    "    with open('data05/setVectorizer_body.p', 'rb') as file:\n",
    "        setVectorizer_body = pickle.load(file)\n"
   ]
  },
  {
   "cell_type": "code",
   "execution_count": 23,
   "metadata": {},
   "outputs": [],
   "source": [
    "# Building a Naive Bayes model\n",
    "NB_classifier = sklearn.naive_bayes.MultinomialNB()\n",
    "body_set_cross_score = cross_val_score(NB_classifier, body_X_train, Y_train, scoring='roc_auc', n_jobs=-1, cv=5)"
   ]
  },
  {
   "cell_type": "code",
   "execution_count": 24,
   "metadata": {},
   "outputs": [
    {
     "name": "stdout",
     "output_type": "stream",
     "text": [
      "For this body model, using the set features, the 5 fold cross validated AUC is:  0.9665326789614553\n"
     ]
    }
   ],
   "source": [
    "# Results\n",
    "print('For this body model, using the set features, the 5 fold cross validated AUC is: ', body_set_cross_score.mean())\n"
   ]
  },
  {
   "cell_type": "markdown",
   "metadata": {},
   "source": [
    "#### tfidf features"
   ]
  },
  {
   "cell_type": "code",
   "execution_count": 25,
   "metadata": {},
   "outputs": [
    {
     "name": "stderr",
     "output_type": "stream",
     "text": [
      "/Library/Frameworks/Python.framework/Versions/3.8/lib/python3.8/site-packages/sklearn/feature_extraction/text.py:382: UserWarning: Your stop_words may be inconsistent with your preprocessing. Tokenizing the stop words generated tokens ['becau'] not in stop_words.\n",
      "  warnings.warn('Your stop_words may be inconsistent with '\n"
     ]
    }
   ],
   "source": [
    "if first_time:\n",
    "    \n",
    "    # Building the tfidf features\n",
    "    tfidfVectorizer_body = TfidfVectorizer(input = 'content', tokenizer=stem_tokenizer, stop_words=stop_words)\n",
    "    body_tfidf_X_train = tfidfVectorizer_body.fit_transform(Training.body.values)\n",
    "    body_tfidf_X_test = tfidfVectorizer_body.transform(Test.body.values)\n",
    "    \n",
    "    # Saving set features \n",
    "    with open('data05/body_tfidf_features.p', 'wb') as file:\n",
    "        pickle.dump(body_tfidf_X_train, file)\n",
    "    \n",
    "    with open('data05/body_tfidf_test_features.p', 'wb') as file:\n",
    "        pickle.dump(body_tfidf_X_test, file)\n",
    "           \n",
    "    with open('data05/tfidfVectorizer_body.p', 'wb') as file:\n",
    "        pickle.dump(tfidfVectorizer_body, file)\n",
    "\n",
    "else : \n",
    "    \n",
    "    # Loading the features\n",
    "    with open('data05/body_tfidf_features.p', 'rb') as file:\n",
    "        body_tfidf_X_train = pickle.load(file)\n",
    "    \n",
    "    with open('data05/body_tfidf_test_features.p', 'rb') as file:\n",
    "        body_tfidf_X_test = pickle.load(file)\n",
    "        \n",
    "    with open('data05/tfidfVectorizer_body.p', 'rb') as file:\n",
    "        tfidfVectorizer_body = pickle.load(file)"
   ]
  },
  {
   "cell_type": "code",
   "execution_count": 26,
   "metadata": {},
   "outputs": [],
   "source": [
    "# Building a Naive Bayes model\n",
    "NB_classifier = sklearn.naive_bayes.MultinomialNB()\n",
    "body_tfidf_cross_score = cross_val_score(NB_classifier, body_tfidf_X_train, Y_train, scoring='roc_auc', n_jobs=-1, cv=5)"
   ]
  },
  {
   "cell_type": "code",
   "execution_count": 27,
   "metadata": {},
   "outputs": [
    {
     "name": "stdout",
     "output_type": "stream",
     "text": [
      "For this body model, using the tfidf features, the 5 fold cross validated AUC is:  0.9708042181488054\n"
     ]
    }
   ],
   "source": [
    "# Results\n",
    "print('For this body model, using the tfidf features, the 5 fold cross validated AUC is: ', body_tfidf_cross_score.mean())\n"
   ]
  },
  {
   "cell_type": "markdown",
   "metadata": {},
   "source": [
    "## IV. Number of links / attachments"
   ]
  },
  {
   "cell_type": "markdown",
   "metadata": {},
   "source": [
    "Many spam emails come with a huge number of hyperlinks. We will now use this feature to see if we can have a satisfying result for our Naive Bayes classifier."
   ]
  },
  {
   "cell_type": "code",
   "execution_count": 28,
   "metadata": {},
   "outputs": [],
   "source": [
    "# Training features\n",
    "link_X_train = pd.get_dummies(Training['links'])\n",
    "\n",
    "# Test features\n",
    "link_X_test = pd.get_dummies(Test.links)"
   ]
  },
  {
   "cell_type": "code",
   "execution_count": 29,
   "metadata": {},
   "outputs": [],
   "source": [
    "# Building a Naive Bayes model\n",
    "NB_classifier = sklearn.naive_bayes.MultinomialNB()\n",
    "link_cross_score = cross_val_score(NB_classifier, link_X_train, Y_train, scoring='roc_auc', n_jobs=-1, cv=5)"
   ]
  },
  {
   "cell_type": "code",
   "execution_count": 30,
   "metadata": {},
   "outputs": [
    {
     "name": "stdout",
     "output_type": "stream",
     "text": [
      "For this Strucural information model, the 5 fold cross validated AUC is:  0.6200757907414672\n"
     ]
    }
   ],
   "source": [
    "# Results\n",
    "print('For this Strucural information model, the 5 fold cross validated AUC is: ', link_cross_score.mean())\n"
   ]
  },
  {
   "cell_type": "markdown",
   "metadata": {},
   "source": [
    "Let's add the number of attachments"
   ]
  },
  {
   "cell_type": "code",
   "execution_count": 31,
   "metadata": {},
   "outputs": [],
   "source": [
    "# Training features\n",
    "link_attach_X_train = pd.get_dummies(Training[['links','attachments']])\n",
    "\n",
    "# Test features\n",
    "link_attach_X_test = pd.get_dummies(Test[['links','attachments']])"
   ]
  },
  {
   "cell_type": "code",
   "execution_count": 32,
   "metadata": {},
   "outputs": [],
   "source": [
    "# Building a Naive Bayes model\n",
    "NB_classifier = sklearn.naive_bayes.MultinomialNB()\n",
    "link_attach_cross_score = cross_val_score(NB_classifier, link_attach_X_train, Y_train, scoring='roc_auc', n_jobs=-1, cv=5)"
   ]
  },
  {
   "cell_type": "code",
   "execution_count": 33,
   "metadata": {},
   "outputs": [
    {
     "name": "stdout",
     "output_type": "stream",
     "text": [
      "For this Strucural information model, the 5 fold cross validated AUC is:  0.6299195908734554\n"
     ]
    }
   ],
   "source": [
    "# Results\n",
    "print('For this Strucural information model, the 5 fold cross validated AUC is: ', link_attach_cross_score.mean())\n"
   ]
  },
  {
   "cell_type": "markdown",
   "metadata": {},
   "source": [
    "## V. Combined Model"
   ]
  },
  {
   "cell_type": "markdown",
   "metadata": {},
   "source": [
    "According to our previous studies, the best classifiers are those using the structural information of the email, the subject and the body content. We will therefore combine these model to build a more robust model."
   ]
  },
  {
   "cell_type": "code",
   "execution_count": 34,
   "metadata": {},
   "outputs": [],
   "source": [
    "# Training features\n",
    "combined_X_train = scipy.sparse.hstack((scipy.sparse.csr_matrix(sim_X_train), sub_X_train, body_X_train))\n",
    "\n",
    "# Test features\n",
    "combined_X_test = scipy.sparse.hstack((scipy.sparse.csr_matrix(sim_X_test), sub_X_test, body_X_test))\n",
    "\n",
    "\n"
   ]
  },
  {
   "cell_type": "code",
   "execution_count": 35,
   "metadata": {},
   "outputs": [],
   "source": [
    "# Building a Naive Bayes model\n",
    "NB_classifier = sklearn.naive_bayes.MultinomialNB()\n",
    "combined_cross_score = cross_val_score(NB_classifier, combined_X_train, Y_train, scoring='roc_auc', n_jobs=-1, cv=5)"
   ]
  },
  {
   "cell_type": "code",
   "execution_count": 36,
   "metadata": {},
   "outputs": [
    {
     "name": "stdout",
     "output_type": "stream",
     "text": [
      "For this body model, using the tfidf features, the 5 fold cross validated AUC is:  0.9878674228486958\n"
     ]
    }
   ],
   "source": [
    "# Results\n",
    "print('For this body model, using the tfidf features, the 5 fold cross validated AUC is: ', combined_cross_score.mean())\n"
   ]
  },
  {
   "cell_type": "markdown",
   "metadata": {},
   "source": [
    "## VI. Analyzing the different models"
   ]
  },
  {
   "cell_type": "code",
   "execution_count": 37,
   "metadata": {},
   "outputs": [
    {
     "data": {
      "image/png": "[encoded data removed]",
      "text/plain": [
       "<Figure size 864x576 with 1 Axes>"
      ]
     },
     "metadata": {},
     "output_type": "display_data"
    }
   ],
   "source": [
    "models = ['Structural information',\n",
    "        'Subject',\n",
    "        'Body',\n",
    "        'Links attachments',\n",
    "        'Combined']\n",
    "\n",
    "aucs = [sim_cross_score.mean(),\n",
    "        sub_tfidf_cross_score.mean(),\n",
    "        body_tfidf_cross_score.mean(),\n",
    "        link_attach_cross_score.mean(),\n",
    "        combined_cross_score.mean()]\n",
    "results = pd.DataFrame({'model':models, 'AUC':aucs})\n",
    "\n",
    "\n",
    "plt.figure(figsize=(12, 8))\n",
    "plt.bar(models, results.AUC)\n",
    "plt.hlines(results.AUC.max(), -0.5, 4.5, 'red', linestyles='dotted', label='Best model')\n",
    "plt.legend()\n",
    "plt.title('5 fold AUC of the different models')\n",
    "plt.show()"
   ]
  },
  {
   "cell_type": "markdown",
   "metadata": {},
   "source": [
    "We see that our combined model is the one which has the highest AUC on the training set. We will train this model with the full training set and test its performance on the Test set."
   ]
  },
  {
   "cell_type": "markdown",
   "metadata": {},
   "source": [
    "### Best Model"
   ]
  },
  {
   "cell_type": "code",
   "execution_count": 38,
   "metadata": {},
   "outputs": [],
   "source": [
    "# Training features\n",
    "combined_X_train = scipy.sparse.hstack((scipy.sparse.csr_matrix(sim_X_train), sub_X_train, body_X_train))\n",
    "\n",
    "# Test features\n",
    "combined_X_test = scipy.sparse.hstack((scipy.sparse.csr_matrix(sim_X_test), sub_X_test, body_X_test))"
   ]
  },
  {
   "cell_type": "code",
   "execution_count": 39,
   "metadata": {},
   "outputs": [
    {
     "data": {
      "text/plain": [
       "MultinomialNB(alpha=1.0, class_prior=None, fit_prior=True)"
      ]
     },
     "execution_count": 39,
     "metadata": {},
     "output_type": "execute_result"
    }
   ],
   "source": [
    "# Building a Naive Bayes model\n",
    "best_classifier = sklearn.naive_bayes.MultinomialNB()\n",
    "best_classifier.fit(combined_X_train, Y_train)"
   ]
  },
  {
   "cell_type": "code",
   "execution_count": 41,
   "metadata": {},
   "outputs": [
    {
     "name": "stdout",
     "output_type": "stream",
     "text": [
      "Accuracy on the test set: \t 0.9683997396774894\n",
      "AUC on the test set:\t \t 0.9689758257859419\n"
     ]
    }
   ],
   "source": [
    "# Results on test set\n",
    "y_pred = best_classifier.predict(combined_X_test)\n",
    "print('Accuracy on the test set: \\t', np.mean(y_pred == Y_test))\n",
    "print('AUC on the test set:\\t \\t', roc_auc_score(Y_test, y_pred))"
   ]
  },
  {
   "cell_type": "markdown",
   "metadata": {},
   "source": [
    "### Analyzing ROC curve for all models"
   ]
  },
  {
   "cell_type": "code",
   "execution_count": 42,
   "metadata": {},
   "outputs": [],
   "source": [
    "# Computing the ROC curves\n",
    "\n",
    "# Structural information model\n",
    "\n",
    "sim_classifier = sklearn.naive_bayes.BernoulliNB()\n",
    "sim_classifier.fit(sim_X_train, Y_train)\n",
    "sim_fpr, sim_tpr, sim_threshold = roc_curve(Y_test, sim_classifier.predict_proba(sim_X_test)[:,1])\n",
    "\n",
    "# Subject based model\n",
    "\n",
    "sub_classifier = sklearn.naive_bayes.MultinomialNB()\n",
    "sub_classifier.fit(sub_tfidf_X_train, Y_train)\n",
    "sub_fpr, sub_tpr, sub_threshold = roc_curve(Y_test, sub_classifier.predict_proba(sub_tfidf_X_test)[:,1])\n",
    "\n",
    "# Body based model\n",
    "\n",
    "body_classifier = sklearn.naive_bayes.MultinomialNB()\n",
    "body_classifier.fit(body_X_train, Y_train)\n",
    "body_fpr, body_tpr, body_threshold = roc_curve(Y_test, body_classifier.predict_proba(body_X_test)[:,1])\n",
    "\n",
    "# Links and attachments model\n",
    "\n",
    "links_classifier = sklearn.naive_bayes.MultinomialNB()\n",
    "links_classifier.fit(link_attach_X_train, Y_train)\n",
    "links_fpr, links_tpr, links_threshold = roc_curve(Y_test, links_classifier.predict_proba(link_attach_X_test)[:,1])\n",
    "\n",
    "\n",
    "# Combined model\n",
    "combined_classifier = sklearn.naive_bayes.MultinomialNB()\n",
    "combined_classifier.fit(combined_X_train, Y_train)\n",
    "combined_fpr, combined_tpr, combined_threshold = roc_curve(Y_test, combined_classifier.predict_proba(combined_X_test)[:,1])"
   ]
  },
  {
   "cell_type": "code",
   "execution_count": 43,
   "metadata": {},
   "outputs": [
    {
     "data": {
      "image/png": "[encoded data removed]",
      "text/plain": [
       "<Figure size 864x576 with 1 Axes>"
      ]
     },
     "metadata": {},
     "output_type": "display_data"
    }
   ],
   "source": [
    "# Plotting the ROC curves\n",
    "\n",
    "plt.figure(figsize=(12,8))\n",
    "\n",
    "plt.plot(sim_fpr, sim_tpr, label='Structural information model')\n",
    "plt.plot(sub_fpr, sub_tpr, label='Subject content model')\n",
    "plt.plot(body_fpr, body_tpr, label='Body content model')\n",
    "plt.plot(links_fpr, links_tpr, label='Links and attachments model')\n",
    "plt.plot(combined_fpr, combined_tpr, label='Combined model')\n",
    "\n",
    "plt.title('ROC Curves for the models')\n",
    "plt.ylabel('tpr')\n",
    "plt.xlabel('fpr')\n",
    "plt.legend(loc='lower right')\n",
    "\n",
    "plt.show()"
   ]
  },
  {
   "cell_type": "markdown",
   "metadata": {},
   "source": [
    "Some interesting questions may be to set up a threshold in order not to block too many good (ham) emails. As a matter of facts, for any mailboxes, it is obviously a better choice to misclassified a spam and let it go to the inbox rather than misclassify an important email and put it in the junk box."
   ]
  },
  {
   "cell_type": "code",
   "execution_count": 46,
   "metadata": {},
   "outputs": [
    {
     "name": "stdout",
     "output_type": "stream",
     "text": [
      "With the current optimal threshold (0.5):\n",
      "percentage of good emails blocked by our best classifier:  0.026644462947543714\n",
      "percentage of spam emails blocked by our best classifier:  0.9645961145194274\n"
     ]
    }
   ],
   "source": [
    "# parts of good emails classified as spams, ie false positive\n",
    "total_ham = (Y_test == 0).sum()\n",
    "total_spam = (Y_test == 1).sum()\n",
    "print('With the current optimal threshold (0.5):\\npercentage of good emails blocked by our best classifier: ', \n",
    "      confusion_matrix(Y_test, combined_classifier.predict(combined_X_test))[0, 1] / total_ham)\n",
    "print('percentage of spam emails blocked by our best classifier: ', \n",
    "      confusion_matrix(Y_test, combined_classifier.predict(combined_X_test))[1, 1] / total_spam)"
   ]
  },
  {
   "cell_type": "markdown",
   "metadata": {},
   "source": [
    "If we want to reduce the number of ham emails being blocked, that is to say preventing too many good emails from being misclassified, we can increase the threshold:"
   ]
  },
  {
   "cell_type": "code",
   "execution_count": 48,
   "metadata": {},
   "outputs": [
    {
     "name": "stdout",
     "output_type": "stream",
     "text": [
      "If we want to block no more than 1% of good emails, we must set the threshold to 0.9504676520888694.\n",
      "In that case, the classifier will only be able to block  0.946319018404908 of spam emails.\n"
     ]
    }
   ],
   "source": [
    "# block no more than 1%\n",
    "idx = (combined_fpr < 0.01).argmin() - 1\n",
    "print(f'If we want to block no more than 1% of good emails, we must set the threshold to {combined_threshold[idx]}.')\n",
    "print(f'In that case, the classifier will only be able to block  {combined_tpr[idx]} of spam emails.')"
   ]
  },
  {
   "cell_type": "code",
   "execution_count": 50,
   "metadata": {},
   "outputs": [
    {
     "name": "stdout",
     "output_type": "stream",
     "text": [
      "The index is 0\n",
      "therefore, we cannot block less than 0.2% of all good emails. \n",
      "If we want to achieve that, we must let all emails be classified negative (conservative classifier) \n",
      "and thus all spams emails would be missed.\n"
     ]
    }
   ],
   "source": [
    "# block no more than 0.2%\n",
    "idx2 = (combined_fpr < 0.002).argmin() - 1\n",
    "print('The index is', idx2)\n",
    "print('therefore, we cannot block less than 0.2% of all good emails. \\n\\\n",
    "If we want to achieve that, we must let all emails be classified negative (conservative classifier) \\n\\\n",
    "and thus all spams emails would be missed.')"
   ]
  },
  {
   "cell_type": "markdown",
   "metadata": {},
   "source": [
    "## VI. Running Models on TREC 2006"
   ]
  },
  {
   "cell_type": "markdown",
   "metadata": {},
   "source": [
    "Let's try our models on the 2006 TREC dataset"
   ]
  },
  {
   "cell_type": "markdown",
   "metadata": {},
   "source": [
    "## Data Preprocessing"
   ]
  },
  {
   "cell_type": "code",
   "execution_count": 51,
   "metadata": {},
   "outputs": [
    {
     "data": {
      "text/html": [
       "<div>\n",
       "<style scoped>\n",
       "    .dataframe tbody tr th:only-of-type {\n",
       "        vertical-align: middle;\n",
       "    }\n",
       "\n",
       "    .dataframe tbody tr th {\n",
       "        vertical-align: top;\n",
       "    }\n",
       "\n",
       "    .dataframe thead th {\n",
       "        text-align: right;\n",
       "    }\n",
       "</style>\n",
       "<table border=\"1\" class=\"dataframe\">\n",
       "  <thead>\n",
       "    <tr style=\"text-align: right;\">\n",
       "      <th></th>\n",
       "      <th>spam</th>\n",
       "      <th>email_id</th>\n",
       "    </tr>\n",
       "  </thead>\n",
       "  <tbody>\n",
       "    <tr>\n",
       "      <th>0</th>\n",
       "      <td>ham</td>\n",
       "      <td>000/000</td>\n",
       "    </tr>\n",
       "    <tr>\n",
       "      <th>1</th>\n",
       "      <td>spam</td>\n",
       "      <td>000/001</td>\n",
       "    </tr>\n",
       "    <tr>\n",
       "      <th>2</th>\n",
       "      <td>spam</td>\n",
       "      <td>000/002</td>\n",
       "    </tr>\n",
       "    <tr>\n",
       "      <th>3</th>\n",
       "      <td>ham</td>\n",
       "      <td>000/003</td>\n",
       "    </tr>\n",
       "    <tr>\n",
       "      <th>4</th>\n",
       "      <td>spam</td>\n",
       "      <td>000/004</td>\n",
       "    </tr>\n",
       "  </tbody>\n",
       "</table>\n",
       "</div>"
      ],
      "text/plain": [
       "   spam email_id\n",
       "0   ham  000/000\n",
       "1  spam  000/001\n",
       "2  spam  000/002\n",
       "3   ham  000/003\n",
       "4  spam  000/004"
      ]
     },
     "execution_count": 51,
     "metadata": {},
     "output_type": "execute_result"
    }
   ],
   "source": [
    "# Importing data\n",
    "\n",
    "data = pd.read_csv('TREC06/full/index', delim_whitespace=True, header=None, names=['spam', 'email_id'])\n",
    "data.email_id = data.email_id.str.replace('../data/', '')\n",
    "data.head()"
   ]
  },
  {
   "cell_type": "code",
   "execution_count": 52,
   "metadata": {},
   "outputs": [],
   "source": [
    "first_time = False"
   ]
  },
  {
   "cell_type": "code",
   "execution_count": 53,
   "metadata": {
    "scrolled": true
   },
   "outputs": [],
   "source": [
    "# Reading all the emails\n",
    "\n",
    "if first_time:\n",
    "    parser = email.parser.BytesParser(policy=default)\n",
    "    messages = []\n",
    "    for id in tqdm.tqdm(data['email_id']):\n",
    "        with open('TREC06/data/' + id, 'rb') as file:\n",
    "            message = parser.parse(file)\n",
    "            messages.append(message)"
   ]
  },
  {
   "cell_type": "code",
   "execution_count": 54,
   "metadata": {
    "scrolled": true
   },
   "outputs": [],
   "source": [
    "# Creating the interesting features: parts, attachments, html, subject, body, links\n",
    "\n",
    "if first_time:\n",
    "    parts = []\n",
    "    attachments = []\n",
    "    html = []\n",
    "    subjects = []\n",
    "    body_list = []\n",
    "    links = []\n",
    "\n",
    "    for message in tqdm.tqdm(messages):\n",
    "        # parts\n",
    "        if not message.is_multipart():\n",
    "            parts.append(0)        \n",
    "        else:\n",
    "            parts.append(len(list(message.walk())))\n",
    "\n",
    "        # Attachments\n",
    "        attach = 0\n",
    "        for part in message.walk():\n",
    "            cdispo = str(part.get('Content-Disposition'))\n",
    "            if 'attachment' in cdispo:\n",
    "                attach += 1\n",
    "        attachments.append(attach)\n",
    "\n",
    "        # Html\n",
    "        html.append(1*('text/html' in [part.get_content_type() for part in message.walk()]))\n",
    "\n",
    "        # Subject\n",
    "        subjects.append(message.get('subject'))\n",
    "\n",
    "        # Body and links\n",
    "        for part in message.walk():\n",
    "            ctype = part.get_content_type()\n",
    "            cdispo = str(part.get('Content-Disposition'))\n",
    "\n",
    "            # skip any text/plain (txt) attachments\n",
    "            if ctype == 'text/plain' and 'attachment' not in cdispo:\n",
    "                body = part.get_payload(decode=True)  # decode\n",
    "                if type(body) == bytes:\n",
    "                    body = body.decode('latin-1')\n",
    "\n",
    "                link = 0\n",
    "                break\n",
    "\n",
    "            elif ctype == 'text/html' and 'attachment' not in cdispo:\n",
    "                soup = BeautifulSoup(part.get_payload(decode=True), 'lxml')\n",
    "                body = soup.find(text=True, recursive=False)\n",
    "                if body == '':\n",
    "                    continue\n",
    "                else:\n",
    "                    link = len(soup.find_all('a'))\n",
    "                    break\n",
    "\n",
    "        body_list.append(body)\n",
    "        links.append(link)\n",
    "    "
   ]
  },
  {
   "cell_type": "code",
   "execution_count": 55,
   "metadata": {},
   "outputs": [],
   "source": [
    "# Wrapping everyting up into a Dataframe\n",
    "if first_time:\n",
    "    df = pd.DataFrame({'email_id': data.email_id,\n",
    "                             'parts': parts, \n",
    "                             'attachments': attachments, \n",
    "                             'html': html, \n",
    "                             'subject': subjects, \n",
    "                             'body': body_list, \n",
    "                             'links': links,\n",
    "                             'spam': data.spam})\n",
    "\n",
    "    df.to_csv('data06/email_data_trec06.csv', index=False)\n",
    "    df.head()"
   ]
  },
  {
   "cell_type": "markdown",
   "metadata": {},
   "source": [
    "## Preparing the dataset"
   ]
  },
  {
   "cell_type": "code",
   "execution_count": 56,
   "metadata": {},
   "outputs": [
    {
     "data": {
      "text/html": [
       "<div>\n",
       "<style scoped>\n",
       "    .dataframe tbody tr th:only-of-type {\n",
       "        vertical-align: middle;\n",
       "    }\n",
       "\n",
       "    .dataframe tbody tr th {\n",
       "        vertical-align: top;\n",
       "    }\n",
       "\n",
       "    .dataframe thead th {\n",
       "        text-align: right;\n",
       "    }\n",
       "</style>\n",
       "<table border=\"1\" class=\"dataframe\">\n",
       "  <thead>\n",
       "    <tr style=\"text-align: right;\">\n",
       "      <th></th>\n",
       "      <th>email_id</th>\n",
       "      <th>parts</th>\n",
       "      <th>attachments</th>\n",
       "      <th>html</th>\n",
       "      <th>subject</th>\n",
       "      <th>body</th>\n",
       "      <th>links</th>\n",
       "      <th>spam</th>\n",
       "    </tr>\n",
       "  </thead>\n",
       "  <tbody>\n",
       "    <tr>\n",
       "      <th>0</th>\n",
       "      <td>000/000</td>\n",
       "      <td>0</td>\n",
       "      <td>0</td>\n",
       "      <td>0</td>\n",
       "      <td>new Catholic mailing list now up and running</td>\n",
       "      <td>The mailing list I queried about a few weeks a...</td>\n",
       "      <td>0</td>\n",
       "      <td>ham</td>\n",
       "    </tr>\n",
       "    <tr>\n",
       "      <th>1</th>\n",
       "      <td>000/001</td>\n",
       "      <td>2</td>\n",
       "      <td>0</td>\n",
       "      <td>0</td>\n",
       "      <td>re[12]:</td>\n",
       "      <td>\\n                                 ...</td>\n",
       "      <td>0</td>\n",
       "      <td>spam</td>\n",
       "    </tr>\n",
       "    <tr>\n",
       "      <th>2</th>\n",
       "      <td>000/002</td>\n",
       "      <td>0</td>\n",
       "      <td>0</td>\n",
       "      <td>0</td>\n",
       "      <td>Take a moment to explore this.</td>\n",
       "      <td>Academic Qualifications available from prestig...</td>\n",
       "      <td>0</td>\n",
       "      <td>spam</td>\n",
       "    </tr>\n",
       "    <tr>\n",
       "      <th>3</th>\n",
       "      <td>000/003</td>\n",
       "      <td>0</td>\n",
       "      <td>0</td>\n",
       "      <td>0</td>\n",
       "      <td>Greetings</td>\n",
       "      <td>Greetings all.  This is to verify your subscri...</td>\n",
       "      <td>0</td>\n",
       "      <td>ham</td>\n",
       "    </tr>\n",
       "    <tr>\n",
       "      <th>4</th>\n",
       "      <td>000/004</td>\n",
       "      <td>3</td>\n",
       "      <td>0</td>\n",
       "      <td>1</td>\n",
       "      <td>LOANS @ 3.17% (27 term)</td>\n",
       "      <td>try chauncey may conferred the luscious not co...</td>\n",
       "      <td>0</td>\n",
       "      <td>spam</td>\n",
       "    </tr>\n",
       "  </tbody>\n",
       "</table>\n",
       "</div>"
      ],
      "text/plain": [
       "  email_id  parts  attachments  html  \\\n",
       "0  000/000      0            0     0   \n",
       "1  000/001      2            0     0   \n",
       "2  000/002      0            0     0   \n",
       "3  000/003      0            0     0   \n",
       "4  000/004      3            0     1   \n",
       "\n",
       "                                        subject  \\\n",
       "0  new Catholic mailing list now up and running   \n",
       "1                                       re[12]:   \n",
       "2                Take a moment to explore this.   \n",
       "3                                     Greetings   \n",
       "4                       LOANS @ 3.17% (27 term)   \n",
       "\n",
       "                                                body  links  spam  \n",
       "0  The mailing list I queried about a few weeks a...      0   ham  \n",
       "1             \\n                                 ...      0  spam  \n",
       "2  Academic Qualifications available from prestig...      0  spam  \n",
       "3  Greetings all.  This is to verify your subscri...      0   ham  \n",
       "4  try chauncey may conferred the luscious not co...      0  spam  "
      ]
     },
     "execution_count": 56,
     "metadata": {},
     "output_type": "execute_result"
    }
   ],
   "source": [
    "# Importing the clean dataset\n",
    "\n",
    "Email_06 = pd.read_csv('data06/email_data_trec06.csv')\n",
    "Email_06.head()"
   ]
  },
  {
   "cell_type": "code",
   "execution_count": 57,
   "metadata": {},
   "outputs": [
    {
     "name": "stdout",
     "output_type": "stream",
     "text": [
      "email_id          0\n",
      "parts             0\n",
      "attachments       0\n",
      "html              0\n",
      "subject         387\n",
      "body           1564\n",
      "links             0\n",
      "spam              0\n",
      "dtype: int64\n",
      "\n",
      "Only Subject and Body contain nan. We will replace with empty strings!\n"
     ]
    }
   ],
   "source": [
    "# Cleaning the nan data\n",
    "print(Email_06.isna().sum())\n",
    "print('\\nOnly Subject and Body contain nan. We will replace with empty strings!')"
   ]
  },
  {
   "cell_type": "code",
   "execution_count": 58,
   "metadata": {},
   "outputs": [],
   "source": [
    "Email_06.fillna('', inplace=True)"
   ]
  },
  {
   "cell_type": "markdown",
   "metadata": {},
   "source": [
    "We will try our models on the whole 2006 dataset."
   ]
  },
  {
   "cell_type": "markdown",
   "metadata": {},
   "source": [
    "### Preparing the features"
   ]
  },
  {
   "cell_type": "code",
   "execution_count": 59,
   "metadata": {},
   "outputs": [],
   "source": [
    "# Structural information features\n",
    "sim_multipart_06 = np.where(Email_06.parts > 0, 1, 0)\n",
    "sim_html_06 = Email_06.html.values\n",
    "sim_links_06 = np.where(Email_06.links > 0, 1, 0)\n",
    "sim_attachments_06 = np.where(Email_06.attachments > 0, 1, 0)\n",
    "sim_06 = np.column_stack((sim_multipart_06, sim_html_06, sim_links_06, sim_attachments_06))\n",
    "Y_06 = np.where(Email_06.spam == 'spam', 1, 0)"
   ]
  },
  {
   "cell_type": "code",
   "execution_count": 62,
   "metadata": {},
   "outputs": [],
   "source": [
    "# Subject content set features\n",
    "sub_set_X_06 = setVectorizer_subject.transform(Email_06.subject.values)"
   ]
  },
  {
   "cell_type": "code",
   "execution_count": 69,
   "metadata": {},
   "outputs": [],
   "source": [
    "# Body content set features\n",
    "if first_time:\n",
    "    body_set_X_06 = setVectorizer_body.transform(Email_06.body.values)\n",
    "    with open('data06/body_set_X_06.p', 'wb') as file:\n",
    "        pickle.dump(body_set_X_06, file)\n",
    "        \n",
    "\n",
    "else:\n",
    "    with open('data06/body_set_X_06.p', 'rb') as file:\n",
    "        body_set_X_06 = pickle.load(file)"
   ]
  },
  {
   "cell_type": "code",
   "execution_count": 70,
   "metadata": {},
   "outputs": [],
   "source": [
    "# Links/attachments features\n",
    "link_attach_X_06 = pd.get_dummies(Email_06[['links','attachments']])"
   ]
  },
  {
   "cell_type": "code",
   "execution_count": 71,
   "metadata": {},
   "outputs": [],
   "source": [
    "# Combined features\n",
    "combined_X_06 = scipy.sparse.hstack((scipy.sparse.csr_matrix(sim_06), sub_set_X_06, body_set_X_06))"
   ]
  },
  {
   "cell_type": "markdown",
   "metadata": {},
   "source": [
    "## Predicting the outcome with our trained models"
   ]
  },
  {
   "cell_type": "code",
   "execution_count": 78,
   "metadata": {},
   "outputs": [
    {
     "data": {
      "text/html": [
       "<div>\n",
       "<style scoped>\n",
       "    .dataframe tbody tr th:only-of-type {\n",
       "        vertical-align: middle;\n",
       "    }\n",
       "\n",
       "    .dataframe tbody tr th {\n",
       "        vertical-align: top;\n",
       "    }\n",
       "\n",
       "    .dataframe thead th {\n",
       "        text-align: right;\n",
       "    }\n",
       "</style>\n",
       "<table border=\"1\" class=\"dataframe\">\n",
       "  <thead>\n",
       "    <tr style=\"text-align: right;\">\n",
       "      <th></th>\n",
       "      <th>Structural information model</th>\n",
       "      <th>Subject content</th>\n",
       "      <th>Body content</th>\n",
       "      <th>Links and attachments</th>\n",
       "      <th>Combined model</th>\n",
       "    </tr>\n",
       "  </thead>\n",
       "  <tbody>\n",
       "    <tr>\n",
       "      <th>Accuracy</th>\n",
       "      <td>0.657316</td>\n",
       "      <td>0.739279</td>\n",
       "      <td>0.905769</td>\n",
       "      <td>0.663688</td>\n",
       "      <td>0.928877</td>\n",
       "    </tr>\n",
       "    <tr>\n",
       "      <th>AUC</th>\n",
       "      <td>0.718127</td>\n",
       "      <td>0.696417</td>\n",
       "      <td>0.914642</td>\n",
       "      <td>0.507844</td>\n",
       "      <td>0.93293</td>\n",
       "    </tr>\n",
       "  </tbody>\n",
       "</table>\n",
       "</div>"
      ],
      "text/plain": [
       "         Structural information model Subject content Body content  \\\n",
       "Accuracy                     0.657316        0.739279     0.905769   \n",
       "AUC                          0.718127        0.696417     0.914642   \n",
       "\n",
       "         Links and attachments Combined model  \n",
       "Accuracy              0.663688       0.928877  \n",
       "AUC                   0.507844        0.93293  "
      ]
     },
     "execution_count": 78,
     "metadata": {},
     "output_type": "execute_result"
    }
   ],
   "source": [
    "# Using our models\n",
    "\n",
    "Classifiers = [sim_classifier, sub_classifier, body_classifier, links_classifier, combined_classifier]\n",
    "Features_list = [sim_06, sub_set_X_06, body_set_X_06, link_attach_X_06, combined_X_06]\n",
    "Results = pd.DataFrame(columns=['Structural information model', 'Subject content', 'Body content', 'Links and attachments', 'Combined model'],\n",
    "                      index=['Accuracy', 'AUC'])\n",
    "\n",
    "for idx, classifier in enumerate(Classifiers):\n",
    "    Results.iloc[0, idx] = np.mean(classifier.predict(Features_list[idx]) == Y_06)\n",
    "    Results.iloc[1, idx] = roc_auc_score(Y_06, classifier.predict(Features_list[idx]))\n",
    "    \n",
    "Results"
   ]
  },
  {
   "cell_type": "code",
   "execution_count": 118,
   "metadata": {},
   "outputs": [
    {
     "data": {
      "image/png": "[encoded data removed]",
      "text/plain": [
       "<Figure size 1296x576 with 2 Axes>"
      ]
     },
     "metadata": {},
     "output_type": "display_data"
    }
   ],
   "source": [
    "fig, ax = plt.subplots(1,2 , figsize=(18, 8))\n",
    "ax[0].set_xticklabels(Results.columns, rotation=30)\n",
    "ax[0].set_title('Accuracy')\n",
    "ax[0].bar(Results.columns, Results.loc['Accuracy'])\n",
    "ax[1].set_xticklabels(Results.columns, rotation=30)\n",
    "ax[1].bar(Results.columns, Results.loc['AUC'], color='green')\n",
    "ax[1].set_title('AUC')\n",
    "plt.show()"
   ]
  },
  {
   "cell_type": "code",
   "execution_count": 116,
   "metadata": {},
   "outputs": [
    {
     "name": "stdout",
     "output_type": "stream",
     "text": [
      "\n"
     ]
    }
   ],
   "source": [
    "# Computing the ROC curves\n",
    "\n",
    "# Structural information model\n",
    "sim_fpr, sim_tpr, sim_threshold = roc_curve(Y_06, sim_classifier.predict_proba(sim_06)[:,1])\n",
    "print()\n",
    "\n",
    "# Subject based model\n",
    "sub_fpr, sub_tpr, sub_threshold = roc_curve(Y_06, sub_classifier.predict_proba(sub_set_X_06)[:,1])\n",
    "\n",
    "# Body based model\n",
    "body_fpr, body_tpr, body_threshold = roc_curve(Y_06, body_classifier.predict_proba(body_set_X_06)[:,1])\n",
    "\n",
    "# Links and attachments model\n",
    "links_fpr, links_tpr, links_threshold = roc_curve(Y_06, links_classifier.predict_proba(link_attach_X_06)[:,1])\n",
    "\n",
    "\n",
    "# Combined model\n",
    "combined_fpr, combined_tpr, combined_threshold = roc_curve(Y_06, combined_classifier.predict_proba(combined_X_06)[:,1])\n",
    "\n",
    "\n"
   ]
  },
  {
   "cell_type": "code",
   "execution_count": 117,
   "metadata": {},
   "outputs": [
    {
     "data": {
      "image/png": "[encoded data removed]",
      "text/plain": [
       "<Figure size 864x576 with 1 Axes>"
      ]
     },
     "metadata": {},
     "output_type": "display_data"
    }
   ],
   "source": [
    "# Plotting the ROC curves\n",
    "\n",
    "plt.figure(figsize=(12,8))\n",
    "\n",
    "plt.plot(sim_fpr, sim_tpr, label='Structural information model')\n",
    "plt.plot(sub_fpr, sub_tpr, label='Subject content model')\n",
    "plt.plot(body_fpr, body_tpr, label='Body content model')\n",
    "plt.plot(links_fpr, links_tpr, label='Links and attachments model')\n",
    "plt.plot(combined_fpr, combined_tpr, label='Combined model')\n",
    "\n",
    "plt.title('ROC Curves on the 2006 dataset')\n",
    "plt.ylabel('tpr')\n",
    "plt.xlabel('fpr')\n",
    "plt.legend(loc='lower right')\n",
    "\n",
    "plt.show()"
   ]
  },
  {
   "cell_type": "markdown",
   "metadata": {},
   "source": [
    "We can see that our best model still is the combined model. This is the one that generalizes the best and it has a pretty good accuracy on new data (92%) for the whole 2006 dataset."
   ]
  },
  {
   "cell_type": "markdown",
   "metadata": {},
   "source": [
    "# Conclusion"
   ]
  },
  {
   "cell_type": "markdown",
   "metadata": {},
   "source": [
    "We have built and trained several NaiveBayes models on different types of features. This study has allowed us to better understand the structure of an email and which elements of that structure may have a great impact on wether or not an email should be thrust. In the end, it turned out that the bag of words models were the best ones but this is obviously not always the case.\n",
    "Indeed, it is interesting to notice that the simple Structural information model has a slightly higher AUC than the Subject bag of words model when classifying the new data of the 2006 dataset. "
   ]
  },
  {
   "cell_type": "markdown",
   "metadata": {},
   "source": [
    "It is also interesting to see that the models performed differently between the original test set and the 2006 dataset. The overall performances are actually better for the original test set, which may be an indicator that the global structure of emails has a bit changed between 2005 and 2006, and that the emails of 2005 are somehow more correlated."
   ]
  },
  {
   "cell_type": "markdown",
   "metadata": {},
   "source": [
    "From the scope of that study, the best choice would now be to use the combined model which performs relatively well on new data and could be useful for this type of classification. Nevertheless, it is a model which has an important running time (mainly due to the Body bag of words representation part) which makes it difficult to deploy in a real life situation."
   ]
  },
  {
   "cell_type": "markdown",
   "metadata": {},
   "source": [
    "\n",
    "\n",
    "\n",
    "This study also allowed to give an explanation to a common method used by email services. Most of them provide methods for the user to notify the spam software that some messages have been miss-classified. As we have seen during the study, it is very complicated to reduce the number of good emails which are classified as spam without strongly deteriorating the sensitivity of the spam engine.\n",
    "The help of the user can be higly efficient to help the software to understand the tiny elements which can ensure the message is a good one for this specific user and learn from it."
   ]
  },
  {
   "cell_type": "markdown",
   "metadata": {},
   "source": [
    "This study was a baseline for the development of more robust models using more complicated and approriate methods such as Gradient Boosted Trees or Dense Neural Network. The accuracies of the models in this study foresees a promising performance for futher models."
   ]
  },
  {
   "cell_type": "code",
   "execution_count": null,
   "metadata": {},
   "outputs": [],
   "source": []
  }
 ],
 "metadata": {
  "kernelspec": {
   "display_name": "Python 3",
   "language": "python",
   "name": "python3"
  },
  "language_info": {
   "codemirror_mode": {
    "name": "ipython",
    "version": 3
   },
   "file_extension": ".py",
   "mimetype": "text/x-python",
   "name": "python",
   "nbconvert_exporter": "python",
   "pygments_lexer": "ipython3",
   "version": "3.8.0"
  }
 },
 "nbformat": 4,
 "nbformat_minor": 4
}
